{
  "nbformat": 4,
  "nbformat_minor": 0,
  "metadata": {
    "colab": {
      "provenance": []
    },
    "kernelspec": {
      "name": "python3",
      "display_name": "Python 3"
    },
    "language_info": {
      "name": "python"
    }
  },
  "cells": [
    {
      "cell_type": "code",
      "source": [
        "import math\n",
        "from sympy import *\n",
        "import numpy as np"
      ],
      "metadata": {
        "id": "KGU5CDuvZ4tS"
      },
      "execution_count": 181,
      "outputs": []
    },
    {
      "cell_type": "code",
      "source": [
        "from sympy.polys.specialpolys import symbols\n",
        "x=symbols(\"x\")"
      ],
      "metadata": {
        "id": "dlEUiW9DgFE8"
      },
      "execution_count": 182,
      "outputs": []
    },
    {
      "cell_type": "code",
      "source": [
        "#definir función\n",
        "f=x**2"
      ],
      "metadata": {
        "id": "qEoYwEm2giMf"
      },
      "execution_count": 183,
      "outputs": []
    },
    {
      "cell_type": "code",
      "source": [
        "#definir conjuntos\n",
        "E = np.array([0,1,4,9,16]) #imagen\n",
        "D = np.array([-4,-3,-2,-1,0,1,2,3,4]) #dominio\n"
      ],
      "metadata": {
        "id": "dxUvt1iTgu0K"
      },
      "execution_count": 184,
      "outputs": []
    },
    {
      "cell_type": "code",
      "source": [
        "#calcular la imagen del dominio\n",
        "y=[] #es la imagen de cada elemento del dominio\n",
        "for i in D:\n",
        "  f_num=f.subs(x,i)\n",
        "  y.append(f_num)\n",
        "\n",
        "#print(y)\n"
      ],
      "metadata": {
        "id": "3Gae4wYWgtQC"
      },
      "execution_count": 185,
      "outputs": []
    },
    {
      "cell_type": "code",
      "source": [
        "#buscar la preimagen en el conjunto dominio\n",
        "pre=[]\n",
        "for i in E:\n",
        "  posicion=np.where(E == i) #posición de la preimagen i\n",
        "  value=E[posicion] \n",
        "\n",
        "  posicion2=np.where(y == value) #buscar el valor de la preimagen en y\n",
        "  for n in posicion2:\n",
        "    pre1=list(D[n]) \n",
        "    print('La preimagen', i, 'es', pre1)\n",
        "\n",
        "  "
      ],
      "metadata": {
        "id": "ShiT0oNHy4in",
        "colab": {
          "base_uri": "https://localhost:8080/"
        },
        "outputId": "1db77b64-7807-4d8d-ef98-90efb5048bd1"
      },
      "execution_count": 186,
      "outputs": [
        {
          "output_type": "stream",
          "name": "stdout",
          "text": [
            "La preimagen 0 es [0]\n",
            "La preimagen 1 es [-1, 1]\n",
            "La preimagen 4 es [-2, 2]\n",
            "La preimagen 9 es [-3, 3]\n",
            "La preimagen 16 es [-4, 4]\n"
          ]
        }
      ]
    },
    {
      "cell_type": "code",
      "source": [
        "#topologias\n",
        "\n",
        "#dominio\n",
        "td=[[],[0],[-3,-1,1,3],[-4,-2,2,4],[-3,-1,0,1,3], [-4,-2,0,2,4],[-4,-3,-2,-1,1,2,3,4],[-4,-3,-2,-1,0,1,2,3,4]]\n",
        "\n",
        "#imagen\n",
        "ti=[[],[0],[1,9],[4,16],[0,1,9],[0,4,16],[1,4,9,16],[0,1,4,9,16]]"
      ],
      "metadata": {
        "id": "JFs085qhRFGN"
      },
      "execution_count": 187,
      "outputs": []
    },
    {
      "cell_type": "code",
      "source": [
        "td=[[],list(D)]\n",
        "ti=[[],list(E)]\n",
        "print(td)\n",
        "print(ti)"
      ],
      "metadata": {
        "colab": {
          "base_uri": "https://localhost:8080/"
        },
        "id": "bv8kCG_J5FYN",
        "outputId": "e3320de0-a3bf-4c18-ebd6-eafca268e398"
      },
      "execution_count": 188,
      "outputs": [
        {
          "output_type": "stream",
          "name": "stdout",
          "text": [
            "[[], [-4, -3, -2, -1, 0, 1, 2, 3, 4]]\n",
            "[[], [0, 1, 4, 9, 16]]\n"
          ]
        }
      ]
    },
    {
      "cell_type": "code",
      "source": [
        "#funcion de calcular la imagen de cada elemento del dominio\n",
        "def imagen(f,td):\n",
        "  y2=[]\n",
        "  for i in td:\n",
        "    y=[]\n",
        "    for n in i:\n",
        "      f_num=f.subs(x,n)\n",
        "      y.append(f_num)\n",
        "\n",
        "    y2.append(y)\n",
        "  return(y2)\n",
        "\n",
        "  #print(y2)"
      ],
      "metadata": {
        "id": "MPrFRog96gJC"
      },
      "execution_count": 189,
      "outputs": []
    },
    {
      "cell_type": "code",
      "source": [
        "#funcion de calcular valores unicos\n",
        "def uniques(y2):\n",
        "  uniques=[]\n",
        "  for i in y2:\n",
        "    unique=[]\n",
        "    for n in i:\n",
        "      if n not in unique:\n",
        "        unique.append(n)\n",
        "    uniques.append(unique)\n",
        "\n",
        "  for i in uniques: #ordenarlos de menor a mayor\n",
        "    for n in i:\n",
        "      i.sort()  \n",
        "  return(uniques)\n",
        "\n",
        "  #print(uniques)"
      ],
      "metadata": {
        "id": "A5-HIMQL63fD"
      },
      "execution_count": 190,
      "outputs": []
    },
    {
      "cell_type": "code",
      "source": [
        "#comparar si las preimagenes están en algun abierto de la Td\n",
        "def comparar(ti, uniques):\n",
        "    for elem in ti:\n",
        "        #print(elem)\n",
        "        if elem not in uniques:\n",
        "            return print('No es continua')\n",
        "    return print('Continua')"
      ],
      "metadata": {
        "id": "gGVz3Oo1Nc7_"
      },
      "execution_count": 221,
      "outputs": []
    },
    {
      "cell_type": "code",
      "source": [
        "def continua_o_no(f,td,ti):\n",
        "  td = list(map(sorted,td))\n",
        "  ti = list(map(sorted,ti))\n",
        "  im=imagen(f,td)\n",
        "  values=uniques(im)\n",
        "  \n",
        "  comparar(ti,values)\n",
        "\n"
      ],
      "metadata": {
        "id": "yA_hatDh5zBG"
      },
      "execution_count": 229,
      "outputs": []
    },
    {
      "cell_type": "code",
      "source": [
        "#calcular la topología discreta\n",
        "import itertools\n",
        "\n",
        "def discrete(X):\n",
        "    subsets = itertools.chain.from_iterable(itertools.combinations(X, r) for r in range(len(X)+1))\n",
        "    topology = [set(s) for s in subsets]\n",
        "    return topology"
      ],
      "metadata": {
        "id": "OKg5_6sLIhC5"
      },
      "execution_count": 193,
      "outputs": []
    },
    {
      "cell_type": "code",
      "source": [
        "def convlista(top): \n",
        "  td = []\n",
        "  for s in top:\n",
        "      td.append(list(s))\n",
        "  return td"
      ],
      "metadata": {
        "id": "7K5D2oqlR8h1"
      },
      "execution_count": 194,
      "outputs": []
    },
    {
      "cell_type": "code",
      "source": [
        "#definir conjuntos\n",
        "I = [0,1,4,9,16] \n",
        "D = [-4,-3,-2,-1,0,1,2,3,4] \n"
      ],
      "metadata": {
        "id": "-EX1jSTUJB36"
      },
      "execution_count": 195,
      "outputs": []
    },
    {
      "cell_type": "code",
      "source": [
        "#ejemplo (a)\n",
        "td=[[],D]\n",
        "ti=[[],I]\n",
        "f=x**2\n",
        "continua_o_no(f,td,ti)"
      ],
      "metadata": {
        "colab": {
          "base_uri": "https://localhost:8080/"
        },
        "id": "KfPbTeuwEk-J",
        "outputId": "68a70d6c-0f86-4322-e985-250df51eade8"
      },
      "execution_count": 230,
      "outputs": [
        {
          "output_type": "stream",
          "name": "stdout",
          "text": [
            "Continua\n"
          ]
        }
      ]
    },
    {
      "cell_type": "code",
      "source": [
        "#ejemplo (b) pendiente\n",
        "td=discrete(I)\n",
        "td=convlista(td)\n",
        "#print(td)\n",
        "ti=td\n",
        "#print(ti)\n",
        "f=0*x\n",
        "continua_o_no(f,td,ti)"
      ],
      "metadata": {
        "colab": {
          "base_uri": "https://localhost:8080/"
        },
        "id": "Pii54r1qQUDm",
        "outputId": "b7a3ac6c-85e5-4df2-cf88-8acc5dbac2d3"
      },
      "execution_count": 231,
      "outputs": [
        {
          "output_type": "stream",
          "name": "stdout",
          "text": [
            "No es continua\n"
          ]
        }
      ]
    },
    {
      "cell_type": "code",
      "source": [
        "#ejemplo (c)\n",
        "td=discrete(D)\n",
        "td=convlista(td)\n",
        "\n",
        "ti=td\n",
        "f=-x\n",
        "continua_o_no(f,td,ti)"
      ],
      "metadata": {
        "colab": {
          "base_uri": "https://localhost:8080/"
        },
        "id": "33sjP-9rPsjO",
        "outputId": "5d9782dd-5ae6-4a5c-b522-d9a8b12c07c3"
      },
      "execution_count": 232,
      "outputs": [
        {
          "output_type": "stream",
          "name": "stdout",
          "text": [
            "Continua\n"
          ]
        }
      ]
    },
    {
      "cell_type": "code",
      "source": [
        "#ejemplo (d)\n",
        "td=[[], [0], [-4, -3, -2, -1], [1, 2, 3, 4], [0, 1, 2, 3, 4], [0, -1, -2, -3, -4], [-4, -3, -2, -1, 1, 2, 3, 4], D]\n",
        "\n",
        "ti=td\n",
        "f=-x\n",
        "continua_o_no(f,td,ti)"
      ],
      "metadata": {
        "colab": {
          "base_uri": "https://localhost:8080/"
        },
        "id": "00HePao8OTmI",
        "outputId": "6e29ba82-b458-4194-f85f-151c4561e2d6"
      },
      "execution_count": 233,
      "outputs": [
        {
          "output_type": "stream",
          "name": "stdout",
          "text": [
            "Continua\n"
          ]
        }
      ]
    }
  ]
}